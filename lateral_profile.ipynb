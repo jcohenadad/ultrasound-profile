{
 "cells": [
  {
   "cell_type": "code",
   "execution_count": null,
   "metadata": {},
   "outputs": [],
   "source": [
    "import plotly.graph_objects as go\n",
    "import numpy as np\n",
    "from ipywidgets import widgets\n",
    "from ipywidgets import interact\n",
    "import scipy.signal as scs\n",
    "import plotly.io as pio"
   ]
  },
  {
   "cell_type": "code",
   "execution_count": null,
   "metadata": {},
   "outputs": [],
   "source": [
    "# Interactive graph to illustrate how the lateral profile of the acoustic wave is affected by the \n",
    "# transducer array geometry in ultrasound imaging.\n",
    "\n",
    "# TODO: replace y with the following equation:\n",
    "#  y = w * d * D * np.sinc(w*x/lz) * np.conv(comb(d*x/lz), sinc(D.x/lz))\n",
    "# TODO: we might want to also add sliders for l and z\n",
    "# TODO: use figure widget to perform calculation interactively\n",
    "\n",
    "#w = np.arange(1, 10, 0.1)  # length of a single transducer element [mm]\n",
    "#d = np.arange(1, 10, 0.1)  # distance between two transducer elements [mm]\n",
    "#D = np.arange(10, 100, 0.1)  # length of the array [mm]\n",
    "#l = 0.5  # wavelength of the acoustic wave [mm]\n",
    "#z = 50  # focal distance [mm]\n",
    "\n",
    "fig = go.FigureWidget(layout={'template': 'plotly_dark'})\n",
    "scatt = fig.add_scatter()\n",
    "fig\n",
    "\n",
    "@interact(D=(10.0, 100.0, 0.01),d=(1, 10, 0.1),w=(1, 10, 0.1),l=0.5,z=50)\n",
    "def update(D=10,d=1,w=1,l=0.5,z=10):\n",
    "    with fig.batch_update():\n",
    "        x = np.arange(-100, 100, 0.09)\n",
    "        lz = l*z\n",
    "        scatt.data[0].x=x\n",
    "        alpha = [-500, 500]#range(-5, 5)\n",
    "        #alpha = 0\n",
    "        #scatt.data[0].y= w * d * D * np.sinc(w*x/lz) * np.convolve(scs.unit_impulse(d*x/lz), np.sinc(D.x/lz))\n",
    "        y = np.sinc(D*x/lz)\n",
    "        for a in alpha:\n",
    "            y = y + np.sinc((D*x + a*d)/lz)\n",
    "        #scatt.data[0].y = y\n",
    "        y = y * w * d * D * np.sinc(w*x/lz)\n",
    "        scatt.data[0].y = y\n",
    "        #scatt.data[0].y= w * d * D * np.sinc(w*x/lz) * np.sinc((D.x + alpha*d*x)/lz))\n",
    "        scatt.layout.xaxis.title = 'x_axis_title'\n",
    "        scatt.layout.yaxis.title = 'y_axis_title'\n",
    "fig"
   ]
  }
 ],
 "metadata": {
  "kernelspec": {
   "display_name": "Python 3",
   "language": "python",
   "name": "python3"
  },
  "language_info": {
   "codemirror_mode": {
    "name": "ipython",
    "version": 3
   },
   "file_extension": ".py",
   "mimetype": "text/x-python",
   "name": "python",
   "nbconvert_exporter": "python",
   "pygments_lexer": "ipython3",
   "version": "3.6.2"
  }
 },
 "nbformat": 4,
 "nbformat_minor": 2
}
